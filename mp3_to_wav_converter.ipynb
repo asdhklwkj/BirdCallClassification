{
 "cells": [
  {
   "cell_type": "code",
   "execution_count": 1,
   "id": "3c5a0874",
   "metadata": {},
   "outputs": [],
   "source": [
    "from pydub import AudioSegment\n",
    "import os\n",
    "\n",
    "def convert_and_trim_mp3_to_wav(input_mp3, output_wav, length_ms=3000):\n",
    "    audio = AudioSegment.from_mp3(input_mp3)\n",
    "    \n",
    "    if len(audio) > length_ms:\n",
    "        audio = audio[:length_ms]\n",
    "    \n",
    "    audio.set_frame_rate(16000).set_channels(1).export(output_wav, format=\"wav\", parameters=[\"-ac\", \"1\", \"-ar\", \"16000\", \"-sample_fmt\", \"s16\"])\n",
    "\n",
    "def convert_folder_mp3_to_wav(source_folder_relative_path, target_folder_relative_path, length_ms=3000):\n",
    "    # Ensure target folder exists, if not, create it\n",
    "    if not os.path.exists(target_folder_relative_path):\n",
    "        os.makedirs(target_folder_relative_path)\n",
    "    \n",
    "    for filename in os.listdir(source_folder_relative_path):\n",
    "        if filename.endswith(\".mp3\"):\n",
    "            # Define the full source path using a relative path\n",
    "            input_mp3 = os.path.join(source_folder_relative_path, filename)\n",
    "            \n",
    "            # Generate the output WAV filename\n",
    "            output_wav_filename = os.path.splitext(filename)[0] + \".wav\"\n",
    "            \n",
    "            # Define the full target path using a relative path\n",
    "            output_wav = os.path.join(target_folder_relative_path, output_wav_filename)\n",
    "            \n",
    "            # Convert the file\n",
    "            convert_and_trim_mp3_to_wav(input_mp3, output_wav, length_ms)\n",
    "\n",
    "# Use relative paths based on your current working directory structure\n",
    "source_folder = \"Velvet_Scoter_Melanitta_fusca_mp3/output/임시/output\"\n",
    "target_folder = \"Velvet_Scoter_Melanitta_fusca_mp3/outputWAV/임시\"\n",
    "\n",
    "# Call the function to convert all MP3 files in the source folder\n",
    "convert_folder_mp3_to_wav(source_folder, target_folder)\n"
   ]
  },
  {
   "cell_type": "code",
   "execution_count": null,
   "id": "871997b3",
   "metadata": {},
   "outputs": [],
   "source": []
  }
 ],
 "metadata": {
  "kernelspec": {
   "display_name": "Python 3",
   "language": "python",
   "name": "python3"
  },
  "language_info": {
   "codemirror_mode": {
    "name": "ipython",
    "version": 3
   },
   "file_extension": ".py",
   "mimetype": "text/x-python",
   "name": "python",
   "nbconvert_exporter": "python",
   "pygments_lexer": "ipython3",
   "version": "3.8.8"
  }
 },
 "nbformat": 4,
 "nbformat_minor": 5
}
