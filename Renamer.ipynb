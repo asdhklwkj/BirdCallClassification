{
 "cells": [
  {
   "cell_type": "code",
   "execution_count": 13,
   "id": "b4693269",
   "metadata": {},
   "outputs": [
    {
     "name": "stdout",
     "output_type": "stream",
     "text": [
      "모든 파일이 새 폴더로 복사되었으며 이름이 변경되었습니다.\n"
     ]
    }
   ],
   "source": [
    "import os\n",
    "import shutil\n",
    "\n",
    "# 원본 폴더 경로\n",
    "folder_path = 'Atlantic_Puffin_Fratercula_arctica_mp3/outputWAV'\n",
    "# 새로운 폴더 경로\n",
    "new_folder_path = os.path.join(folder_path, \"new_folder\")\n",
    "\n",
    "# 새 폴더 생성 (이미 존재하지 않는 경우)\n",
    "if not os.path.exists(new_folder_path):\n",
    "    os.makedirs(new_folder_path)\n",
    "\n",
    "# 해당 폴더 내의 모든 .wav 파일 목록을 가져옴\n",
    "files = [file for file in os.listdir(folder_path) if file.endswith('.wav')]\n",
    "\n",
    "# 파일 이름 변경 및 새 폴더로 복사\n",
    "for index, file in enumerate(files, start=1):\n",
    "    # 새 파일 이름 설정\n",
    "    new_filename = f\"Atlantic_Puffin_Fratercula_arctica_{index}.wav\"\n",
    "    # 원본 파일 경로\n",
    "    original_file_path = os.path.join(folder_path, file)\n",
    "    # 새 파일 경로\n",
    "    new_file_path = os.path.join(new_folder_path, new_filename)\n",
    "    \n",
    "    # 파일을 새 위치로 복사\n",
    "    shutil.copy2(original_file_path, new_file_path)\n",
    "\n",
    "print(\"모든 파일이 새 폴더로 복사되었으며 이름이 변경되었습니다.\")\n"
   ]
  },
  {
   "cell_type": "code",
   "execution_count": null,
   "id": "6c3d8164",
   "metadata": {},
   "outputs": [],
   "source": []
  }
 ],
 "metadata": {
  "kernelspec": {
   "display_name": "Python 3",
   "language": "python",
   "name": "python3"
  },
  "language_info": {
   "codemirror_mode": {
    "name": "ipython",
    "version": 3
   },
   "file_extension": ".py",
   "mimetype": "text/x-python",
   "name": "python",
   "nbconvert_exporter": "python",
   "pygments_lexer": "ipython3",
   "version": "3.8.8"
  }
 },
 "nbformat": 4,
 "nbformat_minor": 5
}
