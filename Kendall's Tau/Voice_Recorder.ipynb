{
 "cells": [
  {
   "cell_type": "code",
   "execution_count": 23,
   "id": "410f2cb4",
   "metadata": {},
   "outputs": [
    {
     "name": "stdout",
     "output_type": "stream",
     "text": [
      "* recording\n",
      "* done recording\n",
      "Your voice has recorded succesfully.\n"
     ]
    }
   ],
   "source": [
    "import numpy as np\n",
    "import matplotlib.pyplot as plt\n",
    "from scipy.io.wavfile import read\n",
    "from IPython.lib.display import Audio\n",
    "from scipy.fftpack import fft, ifft\n",
    "from scipy.io import loadmat\n",
    "import scipy.signal as sgnl\n",
    "import scipy.io.wavfile as wav\n",
    "import pyaudio\n",
    "import sys\n",
    "import wave\n",
    "import operator\n",
    "import scipy\n",
    "from python_speech_features import mfcc\n",
    "#########\n",
    "#recording part\n",
    "CHUNK = 16000\n",
    "FORMAT = pyaudio.paInt32\n",
    "CHANNELS = 1 #1 channel for audio\n",
    "RATE = 16000 #sampling\n",
    "RECORD_SECONDS =3 #record time\n",
    "\n",
    "for clock in range(0,1):\n",
    "\n",
    "    WAVE_OUTPUT_FILENAME = \"Long_tailed_duck_2_TEST\"+str(clock)+\".wav\"\n",
    "    #creating .wav file with name\n",
    "\n",
    "    #recording parameteres\n",
    "    p = pyaudio.PyAudio()\n",
    "\n",
    "    stream = p.open(format=FORMAT,\n",
    "                channels=CHANNELS,\n",
    "                rate=RATE,\n",
    "                input=True,\n",
    "                frames_per_buffer=CHUNK)\n",
    "\n",
    "    print(\"* recording\")\n",
    "    \n",
    "    frames = []\n",
    "    #RATE/CHUNK is also 1.\n",
    "    for i in range(0, int(RATE / CHUNK * RECORD_SECONDS)):\n",
    "        data = stream.read(CHUNK)\n",
    "        frames.append(data)\n",
    "    print(\"* done recording\")\n",
    "    #stop streaming\n",
    "    stream.stop_stream()\n",
    "    stream.close()\n",
    "    p.terminate()\n",
    "    #formatting file as want\n",
    "    wf = wave.open(WAVE_OUTPUT_FILENAME, 'wb')\n",
    "    wf.setnchannels(CHANNELS)\n",
    "    wf.setsampwidth(p.get_sample_size(FORMAT))\n",
    "    wf.setframerate(RATE)\n",
    "    wf.writeframes(b''.join(frames))\n",
    "    wf.close()\n",
    "    print(\"Your voice has recorded succesfully.\")\n",
    "    \n",
    "    result = []"
   ]
  },
  {
   "cell_type": "code",
   "execution_count": null,
   "id": "53ac426b",
   "metadata": {},
   "outputs": [],
   "source": []
  },
  {
   "cell_type": "code",
   "execution_count": null,
   "id": "45ee7373",
   "metadata": {},
   "outputs": [],
   "source": []
  }
 ],
 "metadata": {
  "kernelspec": {
   "display_name": "Python 3",
   "language": "python",
   "name": "python3"
  },
  "language_info": {
   "codemirror_mode": {
    "name": "ipython",
    "version": 3
   },
   "file_extension": ".py",
   "mimetype": "text/x-python",
   "name": "python",
   "nbconvert_exporter": "python",
   "pygments_lexer": "ipython3",
   "version": "3.8.8"
  }
 },
 "nbformat": 4,
 "nbformat_minor": 5
}
