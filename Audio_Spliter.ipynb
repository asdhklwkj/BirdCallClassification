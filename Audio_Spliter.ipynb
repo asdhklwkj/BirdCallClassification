{
 "cells": [
  {
   "cell_type": "code",
   "execution_count": 2,
   "id": "cc1c2ab4",
   "metadata": {},
   "outputs": [
    {
     "name": "stdout",
     "output_type": "stream",
     "text": [
      "Splitting Velvet_Scoter_Melanitta_fusca_mp3.mp3...\n",
      "Velvet_Scoter_Melanitta_fusca_mp3.mp3 has been split and saved to Velvet_Scoter_Melanitta_fusca_mp3/output/임시\\output\n"
     ]
    }
   ],
   "source": [
    "from pydub import AudioSegment\n",
    "import math\n",
    "import os\n",
    "\n",
    "def split_mp3(file_path, segment_length_ms, output_folder):\n",
    "    # Load the audio file\n",
    "    audio = AudioSegment.from_mp3(file_path)\n",
    "\n",
    "    # Calculate the number of segments\n",
    "    duration_ms = len(audio)\n",
    "    num_segments = math.ceil(duration_ms / segment_length_ms)\n",
    "    \n",
    "    # Extract file name without extension\n",
    "    file_name = os.path.splitext(os.path.basename(file_path))[0]\n",
    "\n",
    "    # Split and export segments\n",
    "    for i in range(num_segments):\n",
    "        start_ms = i * segment_length_ms\n",
    "        end_ms = min((i + 1) * segment_length_ms, duration_ms)\n",
    "        segment = audio[start_ms:end_ms]\n",
    "        segment_file_name = f\"{file_name}_segment_{i + 1}.mp3\"\n",
    "        segment.export(os.path.join(output_folder, segment_file_name), format=\"mp3\")\n",
    "\n",
    "def split_all_mp3s_in_folder(folder_path, segment_length_ms):\n",
    "    output_folder = os.path.join(folder_path, \"output\")\n",
    "    os.makedirs(output_folder, exist_ok=True)\n",
    "    \n",
    "    # Iterate over each file in the folder\n",
    "    for file_name in os.listdir(folder_path):\n",
    "        if file_name.endswith('.mp3'):\n",
    "            file_path = os.path.join(folder_path, file_name)\n",
    "            print(f\"Splitting {file_name}...\")\n",
    "            split_mp3(file_path, segment_length_ms, output_folder)\n",
    "            print(f\"{file_name} has been split and saved to {output_folder}\")\n",
    "\n",
    "# Path to the folder containing your MP3 files\n",
    "folder_path = 'Velvet_Scoter_Melanitta_fusca_mp3/output/임시'\n",
    "# 4 seconds in milliseconds\n",
    "segment_length_ms = 4000\n",
    "\n",
    "split_all_mp3s_in_folder(folder_path, segment_length_ms)\n"
   ]
  },
  {
   "cell_type": "code",
   "execution_count": null,
   "id": "62f31677",
   "metadata": {},
   "outputs": [],
   "source": []
  }
 ],
 "metadata": {
  "kernelspec": {
   "display_name": "Python 3",
   "language": "python",
   "name": "python3"
  },
  "language_info": {
   "codemirror_mode": {
    "name": "ipython",
    "version": 3
   },
   "file_extension": ".py",
   "mimetype": "text/x-python",
   "name": "python",
   "nbconvert_exporter": "python",
   "pygments_lexer": "ipython3",
   "version": "3.8.8"
  }
 },
 "nbformat": 4,
 "nbformat_minor": 5
}
